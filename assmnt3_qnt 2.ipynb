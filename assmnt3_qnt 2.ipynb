{
 "cells": [
  {
   "cell_type": "markdown",
   "id": "2324b156",
   "metadata": {},
   "source": [
    "## Write a Python program to reverse a string.\n",
    "\n",
    "\n",
    "\n",
    "﻿Sample String : \"1234abcd\"\n",
    "\n",
    "Expected Output : \"dcba4321\""
   ]
  },
  {
   "cell_type": "code",
   "execution_count": 12,
   "id": "fa6e2a2c",
   "metadata": {},
   "outputs": [
    {
     "name": "stdout",
     "output_type": "stream",
     "text": [
      "ENTER WHAT YOU WANT TO REVERSE: ANKIT RAI\n",
      "IAR TIKNA \n"
     ]
    }
   ],
   "source": [
    "def reverse(value):\n",
    "    reverse_value= \" \"\n",
    "    for i in value:\n",
    "        reverse_value=i+reverse_value\n",
    "    print(reverse_value)\n",
    "    \n",
    "value= input(\"ENTER WHAT YOU WANT TO REVERSE: \")\n",
    "reverse(value)\n",
    "    "
   ]
  },
  {
   "cell_type": "code",
   "execution_count": null,
   "id": "43543a58",
   "metadata": {},
   "outputs": [],
   "source": []
  },
  {
   "cell_type": "code",
   "execution_count": null,
   "id": "a1637242",
   "metadata": {},
   "outputs": [],
   "source": []
  }
 ],
 "metadata": {
  "kernelspec": {
   "display_name": "Python 3 (ipykernel)",
   "language": "python",
   "name": "python3"
  },
  "language_info": {
   "codemirror_mode": {
    "name": "ipython",
    "version": 3
   },
   "file_extension": ".py",
   "mimetype": "text/x-python",
   "name": "python",
   "nbconvert_exporter": "python",
   "pygments_lexer": "ipython3",
   "version": "3.10.9"
  }
 },
 "nbformat": 4,
 "nbformat_minor": 5
}
